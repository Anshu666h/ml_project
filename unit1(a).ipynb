{
  "nbformat": 4,
  "nbformat_minor": 0,
  "metadata": {
    "colab": {
      "provenance": [],
      "authorship_tag": "ABX9TyMHorT9o9URyKqG8k2gAkiG",
      "include_colab_link": true
    },
    "kernelspec": {
      "name": "python3",
      "display_name": "Python 3"
    },
    "language_info": {
      "name": "python"
    }
  },
  "cells": [
    {
      "cell_type": "markdown",
      "metadata": {
        "id": "view-in-github",
        "colab_type": "text"
      },
      "source": [
        "<a href=\"https://colab.research.google.com/github/Anshu666h/ml_project/blob/main/unit1(a).ipynb\" target=\"_parent\"><img src=\"https://colab.research.google.com/assets/colab-badge.svg\" alt=\"Open In Colab\"/></a>"
      ]
    },
    {
      "cell_type": "code",
      "execution_count": null,
      "metadata": {
        "colab": {
          "base_uri": "https://localhost:8080/"
        },
        "id": "pJyxcBaXCixv",
        "outputId": "d90078ad-5289-4ae7-ddfc-c75c24b7a6ee"
      },
      "outputs": [
        {
          "output_type": "stream",
          "name": "stdout",
          "text": [
            "   age           job  marital  education default  balance housing loan  \\\n",
            "0   58    management  married   tertiary      no     2143     yes   no   \n",
            "1   44    technician   single  secondary      no       29     yes   no   \n",
            "2   33  entrepreneur  married  secondary      no        2     yes  yes   \n",
            "3   47   blue-collar  married    unknown      no     1506     yes   no   \n",
            "4   33       unknown   single    unknown      no        1      no   no   \n",
            "\n",
            "   contact  day month  duration  campaign  pdays  previous poutcome deposit  \n",
            "0  unknown    5   may       261         1     -1         0  unknown      no  \n",
            "1  unknown    5   may       151         1     -1         0  unknown      no  \n",
            "2  unknown    5   may        76         1     -1         0  unknown      no  \n",
            "3  unknown    5   may        92         1     -1         0  unknown      no  \n",
            "4  unknown    5   may       198         1     -1         0  unknown      no  \n",
            "<class 'pandas.core.frame.DataFrame'>\n",
            "RangeIndex: 45211 entries, 0 to 45210\n",
            "Data columns (total 17 columns):\n",
            " #   Column     Non-Null Count  Dtype \n",
            "---  ------     --------------  ----- \n",
            " 0   age        45211 non-null  int64 \n",
            " 1   job        45211 non-null  object\n",
            " 2   marital    45211 non-null  object\n",
            " 3   education  45211 non-null  object\n",
            " 4   default    45211 non-null  object\n",
            " 5   balance    45211 non-null  int64 \n",
            " 6   housing    45211 non-null  object\n",
            " 7   loan       45211 non-null  object\n",
            " 8   contact    45211 non-null  object\n",
            " 9   day        45211 non-null  int64 \n",
            " 10  month      45211 non-null  object\n",
            " 11  duration   45211 non-null  int64 \n",
            " 12  campaign   45211 non-null  int64 \n",
            " 13  pdays      45211 non-null  int64 \n",
            " 14  previous   45211 non-null  int64 \n",
            " 15  poutcome   45211 non-null  object\n",
            " 16  deposit    45211 non-null  object\n",
            "dtypes: int64(7), object(10)\n",
            "memory usage: 5.9+ MB\n",
            "None\n",
            "age          0\n",
            "job          0\n",
            "marital      0\n",
            "education    0\n",
            "default      0\n",
            "balance      0\n",
            "housing      0\n",
            "loan         0\n",
            "contact      0\n",
            "day          0\n",
            "month        0\n",
            "duration     0\n",
            "campaign     0\n",
            "pdays        0\n",
            "previous     0\n",
            "poutcome     0\n",
            "deposit      0\n",
            "dtype: int64\n",
            "   age           job  marital  education default  balance housing loan  \\\n",
            "0   58    management  married   tertiary      no     2143     yes   no   \n",
            "1   44    technician   single  secondary      no       29     yes   no   \n",
            "2   33  entrepreneur  married  secondary      no        2     yes  yes   \n",
            "3   47   blue-collar  married    unknown      no     1506     yes   no   \n",
            "4   33       unknown   single    unknown      no        1      no   no   \n",
            "\n",
            "   contact  day month  duration  campaign  pdays  previous poutcome deposit  \\\n",
            "0  unknown    5   may       261         1     -1         0  unknown      no   \n",
            "1  unknown    5   may       151         1     -1         0  unknown      no   \n",
            "2  unknown    5   may        76         1     -1         0  unknown      no   \n",
            "3  unknown    5   may        92         1     -1         0  unknown      no   \n",
            "4  unknown    5   may       198         1     -1         0  unknown      no   \n",
            "\n",
            "                    date_column category_column  normalized_column  \n",
            "0 1970-01-01 00:00:00.000002143             yes         260.548387  \n",
            "1 1970-01-01 00:00:00.000000029             yes         260.096774  \n",
            "2 1970-01-01 00:00:00.000000002             yes         259.741935  \n",
            "3 1970-01-01 00:00:00.000001506             yes         260.193548  \n",
            "4 1970-01-01 00:00:00.000000001              no         259.741935  \n"
          ]
        }
      ],
      "source": [
        "import pandas as pd\n",
        "import numpy as np\n",
        "\n",
        "# Load the dataset\n",
        "df = pd.read_csv('/content/bank.csv')\n",
        "\n",
        "# Explore the dataset\n",
        "print(df.head())\n",
        "print(df.info())\n",
        "print(df.isnull().sum())\n",
        "\n",
        "# Handle missing values\n",
        "df.dropna(inplace=True)\n",
        "\n",
        "# Convert data types\n",
        "df['date_column'] = pd.to_datetime(df['balance'])\n",
        "df['category_column'] = df['housing'].astype('category')\n",
        "\n",
        "# Normalize a numerical column\n",
        "df['normalized_column'] = (df['age'] - df['balance'].min()) / (df['day'].max() - df['duration'].min())\n",
        "\n",
        "# Display the cleaned dataset\n",
        "print(df.head())"
      ]
    }
  ]
}