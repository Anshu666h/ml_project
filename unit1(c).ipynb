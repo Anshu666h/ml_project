{
  "nbformat": 4,
  "nbformat_minor": 0,
  "metadata": {
    "colab": {
      "provenance": [],
      "authorship_tag": "ABX9TyOFtX1sdS6dLnJBrt5HyZEH",
      "include_colab_link": true
    },
    "kernelspec": {
      "name": "python3",
      "display_name": "Python 3"
    },
    "language_info": {
      "name": "python"
    }
  },
  "cells": [
    {
      "cell_type": "markdown",
      "metadata": {
        "id": "view-in-github",
        "colab_type": "text"
      },
      "source": [
        "<a href=\"https://colab.research.google.com/github/Anshu666h/ml_project/blob/main/unit1(c).ipynb\" target=\"_parent\"><img src=\"https://colab.research.google.com/assets/colab-badge.svg\" alt=\"Open In Colab\"/></a>"
      ]
    },
    {
      "cell_type": "code",
      "execution_count": 1,
      "metadata": {
        "colab": {
          "base_uri": "https://localhost:8080/"
        },
        "id": "QtDFGotVJGKw",
        "outputId": "ee90d99a-d8d1-4f18-8ac8-7f99426cc053"
      },
      "outputs": [
        {
          "output_type": "stream",
          "name": "stdout",
          "text": [
            "     Recency  Frequency  Monetary  Time  Class\n",
            "0          2         50     12500    98      1\n",
            "1          0         13      3250    28      1\n",
            "2          1         16      4000    35      1\n",
            "3          2         20      5000    45      1\n",
            "4          1         24      6000    77      0\n",
            "..       ...        ...       ...   ...    ...\n",
            "743       23          2       500    38      0\n",
            "744       21          2       500    52      0\n",
            "745       23          3       750    62      0\n",
            "746       39          1       250    39      0\n",
            "747       72          1       250    72      0\n",
            "\n",
            "[748 rows x 5 columns]\n"
          ]
        }
      ],
      "source": [
        "# Import necessary libraries\n",
        "from sklearn.preprocessing import MinMaxScaler, StandardScaler\n",
        "import pandas as pd\n",
        "\n",
        "# Load dataset into a Pandas DataFrame\n",
        "df = pd.read_csv(\"/content/blood.csv\")\n",
        "\n",
        "# Apply Min-Max Scaling\n",
        "scaler = MinMaxScaler()\n",
        "scaled_data = scaler.fit_transform(df)\n",
        "\n",
        "# Apply Standardization\n",
        "scaler = StandardScaler()\n",
        "standardized_data = scaler.fit_transform(df)\n",
        "print(df)"
      ]
    }
  ]
}