{
  "nbformat": 4,
  "nbformat_minor": 0,
  "metadata": {
    "colab": {
      "provenance": [],
      "authorship_tag": "ABX9TyOr1xdIcdLkbZVLoFoOpYHB",
      "include_colab_link": true
    },
    "kernelspec": {
      "name": "python3",
      "display_name": "Python 3"
    },
    "language_info": {
      "name": "python"
    }
  },
  "cells": [
    {
      "cell_type": "markdown",
      "metadata": {
        "id": "view-in-github",
        "colab_type": "text"
      },
      "source": [
        "<a href=\"https://colab.research.google.com/github/Anshu666h/ml_project/blob/main/unit2(a).ipynb\" target=\"_parent\"><img src=\"https://colab.research.google.com/assets/colab-badge.svg\" alt=\"Open In Colab\"/></a>"
      ]
    },
    {
      "cell_type": "code",
      "execution_count": 1,
      "metadata": {
        "colab": {
          "base_uri": "https://localhost:8080/"
        },
        "id": "44lbZRcjKLbx",
        "outputId": "93e3d78f-0d23-43d0-8666-30970875914a"
      },
      "outputs": [
        {
          "output_type": "stream",
          "name": "stdout",
          "text": [
            "   age  income signup_date  age_squared  income_log  signup_year  \\\n",
            "0   24   70000  2021-01-15          576   11.156251         2021   \n",
            "1   50    6000  2023-06-25         2500    8.699515         2023   \n",
            "2   23    2345  2022-01-06          529    7.760041         2022   \n",
            "3   45   90073  2021-06-25         2025   11.408376         2021   \n",
            "\n",
            "   days_since_signup  \n",
            "0               1390  \n",
            "1                499  \n",
            "2               1034  \n",
            "3               1229  \n"
          ]
        }
      ],
      "source": [
        "import pandas as pd\n",
        "import numpy as np\n",
        "import sklearn.datasets\n",
        "from sklearn.model_selection import train_test_split\n",
        "from sklearn.linear_model import LogisticRegression\n",
        "from sklearn.metrics import accuracy_score\n",
        "\n",
        "\n",
        "# Sample DataFrame\n",
        "data = {\n",
        "    'age': [24,50,23,45],\n",
        "    'income': [70000,6000,2345,90073],\n",
        "    'signup_date': pd.to_datetime(['2021-01-15', '2023-06-25', '2022-01-06', '2021-06-25'])\n",
        "}\n",
        "\n",
        "df = pd.DataFrame(data)\n",
        "\n",
        "# Creating new features\n",
        "df['age_squared'] = df['age'] ** 2  # Polynomial feature\n",
        "df['income_log'] = df['income'].apply(lambda x: np.log(x))  # Log transformation\n",
        "df['signup_year'] = df['signup_date'].dt.year  # Extracting year from date\n",
        "df['days_since_signup'] = (pd.to_datetime('today') - df['signup_date']).dt.days  # Time since signup\n",
        "\n",
        "print(df)"
      ]
    }
  ]
}